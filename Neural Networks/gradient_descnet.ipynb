{
 "cells": [
  {
   "cell_type": "code",
   "execution_count": 45,
   "metadata": {},
   "outputs": [],
   "source": [
    "import numpy as np\n",
    "import pandas as pd"
   ]
  },
  {
   "cell_type": "code",
   "execution_count": 46,
   "metadata": {},
   "outputs": [],
   "source": [
    "df = pd.read_csv('insurance_data.csv')"
   ]
  },
  {
   "cell_type": "code",
   "execution_count": 74,
   "metadata": {},
   "outputs": [],
   "source": [
    "def sigmoid(x):\n",
    "    return 1 / (1 + np.exp(-x))\n",
    "\n",
    "def rescale(x):\n",
    "    return np.clip(x, 1e-5, 1 - 1e-5)\n",
    "\n",
    "def binary_crossentropy(y_pred, y_true):\n",
    "    y_pred = rescale(y_pred)\n",
    "    y_true = rescale(y_true)\n",
    "    return -np.mean(y_true * np.log(y_pred) + ((1 - y_true) * (np.log(1 - y_pred))))\n"
   ]
  },
  {
   "cell_type": "code",
   "execution_count": 75,
   "metadata": {},
   "outputs": [],
   "source": [
    "def gradient_descent(age, affd, y_true, l_rate, epochos):\n",
    "    w1, w2, b = 0, 0, 1\n",
    "    for _ in range(epochos):\n",
    "        \n",
    "        weighted_sum = (w1 * age) + (w2 * affd) + b\n",
    "        y_pred = sigmoid(weighted_sum)\n",
    "\n",
    "        loss = binary_crossentropy(y_pred, y_true)\n",
    "\n",
    "        w1_d = np.mean(np.dot(age, (y_pred - y_true)))\n",
    "        w2_d = np.mean(np.dot(affd, (y_pred - y_true)))\n",
    "        b_d = np.mean(y_pred - y_true)\n",
    "\n",
    "        w1 = w1 - (l_rate * w1_d)\n",
    "        w2 = w2 - (l_rate * w2_d)\n",
    "        b = b - (l_rate * b_d)\n",
    "\n",
    "        print(f\"w1: {w1:.3f},   w2: {w2:.3f},   b: {b:.3f},   loss: {loss:.3f}\")\n",
    "\n",
    "    return w1, w2, b"
   ]
  },
  {
   "cell_type": "code",
   "execution_count": null,
   "metadata": {},
   "outputs": [],
   "source": [
    "w1, w2, b = gradient_descent(df['age'], df['affordibility'], df['bought_insurance'], 0.05, 200)"
   ]
  }
 ],
 "metadata": {
  "kernelspec": {
   "display_name": ".venv",
   "language": "python",
   "name": "python3"
  },
  "language_info": {
   "codemirror_mode": {
    "name": "ipython",
    "version": 3
   },
   "file_extension": ".py",
   "mimetype": "text/x-python",
   "name": "python",
   "nbconvert_exporter": "python",
   "pygments_lexer": "ipython3",
   "version": "3.12.4"
  }
 },
 "nbformat": 4,
 "nbformat_minor": 2
}
