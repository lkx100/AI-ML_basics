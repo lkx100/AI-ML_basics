{
 "cells": [
  {
   "cell_type": "code",
   "execution_count": 1,
   "metadata": {},
   "outputs": [],
   "source": [
    "import numpy as np\n",
    "import pandas as pd\n",
    "import matplotlib.pyplot as plt"
   ]
  },
  {
   "cell_type": "markdown",
   "metadata": {},
   "source": [
    "# Batch Gradient Desent"
   ]
  },
  {
   "cell_type": "code",
   "execution_count": 148,
   "metadata": {},
   "outputs": [],
   "source": [
    "df = pd.read_csv('homeprices_banglore.csv')"
   ]
  },
  {
   "cell_type": "code",
   "execution_count": 149,
   "metadata": {},
   "outputs": [],
   "source": [
    "bedrooms = df['bedrooms']\n",
    "area = df['area']\n",
    "y = df['price']"
   ]
  },
  {
   "cell_type": "code",
   "execution_count": 150,
   "metadata": {},
   "outputs": [],
   "source": [
    "max_area = area.max()\n",
    "max_price = y.max()\n",
    "scaled_area = area / max_area\n",
    "scaled_y = y / max_price"
   ]
  },
  {
   "cell_type": "code",
   "execution_count": 151,
   "metadata": {},
   "outputs": [
    {
     "data": {
      "text/html": [
       "<div>\n",
       "<style scoped>\n",
       "    .dataframe tbody tr th:only-of-type {\n",
       "        vertical-align: middle;\n",
       "    }\n",
       "\n",
       "    .dataframe tbody tr th {\n",
       "        vertical-align: top;\n",
       "    }\n",
       "\n",
       "    .dataframe thead th {\n",
       "        text-align: right;\n",
       "    }\n",
       "</style>\n",
       "<table border=\"1\" class=\"dataframe\">\n",
       "  <thead>\n",
       "    <tr style=\"text-align: right;\">\n",
       "      <th></th>\n",
       "      <th>area</th>\n",
       "      <th>bedrooms</th>\n",
       "    </tr>\n",
       "  </thead>\n",
       "  <tbody>\n",
       "    <tr>\n",
       "      <th>0</th>\n",
       "      <td>0.285405</td>\n",
       "      <td>2</td>\n",
       "    </tr>\n",
       "    <tr>\n",
       "      <th>1</th>\n",
       "      <td>0.702703</td>\n",
       "      <td>4</td>\n",
       "    </tr>\n",
       "    <tr>\n",
       "      <th>2</th>\n",
       "      <td>0.389189</td>\n",
       "      <td>3</td>\n",
       "    </tr>\n",
       "    <tr>\n",
       "      <th>3</th>\n",
       "      <td>0.411081</td>\n",
       "      <td>3</td>\n",
       "    </tr>\n",
       "    <tr>\n",
       "      <th>4</th>\n",
       "      <td>0.324324</td>\n",
       "      <td>2</td>\n",
       "    </tr>\n",
       "  </tbody>\n",
       "</table>\n",
       "</div>"
      ],
      "text/plain": [
       "       area  bedrooms\n",
       "0  0.285405         2\n",
       "1  0.702703         4\n",
       "2  0.389189         3\n",
       "3  0.411081         3\n",
       "4  0.324324         2"
      ]
     },
     "execution_count": 151,
     "metadata": {},
     "output_type": "execute_result"
    }
   ],
   "source": [
    "X = pd.concat([scaled_area, bedrooms], axis = 'columns')\n",
    "X.head()"
   ]
  },
  {
   "cell_type": "code",
   "execution_count": null,
   "metadata": {},
   "outputs": [],
   "source": []
  },
  {
   "cell_type": "code",
   "execution_count": 126,
   "metadata": {},
   "outputs": [],
   "source": [
    "def batch_gd(X, y, epochs, l_rate = 0.05):\n",
    "    features = X.shape[1]  # 2: bedrooms, area\n",
    "    w = np.zeros(shape = features)   # [1, 1] -> 1D vector having 1's   \n",
    "    b = 0\n",
    "    n = X.shape[0]  # 20 samples\n",
    "    cost, epoch_list = [], []\n",
    "\n",
    "    for _ in range(epochs):\n",
    "        y_pred = np.dot(X, w) + b\n",
    "\n",
    "        loss = np.mean(np.square(y - y_pred))\n",
    "\n",
    "        w_d = -(2/n) * np.dot(X.T, (y - y_pred))\n",
    "        b_d = -(2/n) * np.sum(y - y_pred)\n",
    "\n",
    "        w -= (l_rate * w_d)\n",
    "        b -= (l_rate * b_d)\n",
    "\n",
    "        if _ % 50 == 0: print(f\"Epoch = {_},  w = {w},  b = {b},  loss = {loss}\")\n",
    "        cost.append(loss)\n",
    "        epoch_list.append(_)\n",
    "\n",
    "    return w, b, cost, epoch_list\n"
   ]
  },
  {
   "cell_type": "code",
   "execution_count": 127,
   "metadata": {},
   "outputs": [
    {
     "name": "stdout",
     "output_type": "stream",
     "text": [
      "Epoch = 0,  w = [ 4.8368553 26.5157   ],  b = 7.88535,  loss = 8037.223244999999\n",
      "Epoch = 50,  w = [15.54055094 28.65319908],  b = -9.292955427977999,  loss = 354.4522204336497\n",
      "Epoch = 100,  w = [24.7004022  30.30102497],  b = -19.598031930035273,  loss = 275.49118104495085\n",
      "Epoch = 150,  w = [32.63415796 30.87405003],  b = -25.807460439946052,  loss = 234.00360976121925\n",
      "Epoch = 200,  w = [39.68591025 30.78836849],  b = -29.43460737437548,  loss = 208.5280847418873\n",
      "Epoch = 250,  w = [46.07906976 30.30682505],  b = -31.43880422121595,  loss = 190.33748514541477\n",
      "Epoch = 300,  w = [51.96023287 29.59509438],  b = -32.427925997114755,  loss = 175.8387431209036\n",
      "Epoch = 350,  w = [57.42702444 28.75725689],  b = -32.78691078407186,  loss = 163.51293804019886\n",
      "Epoch = 400,  w = [62.5457738  27.85836623],  b = -32.759294308590725,  loss = 152.682951232438\n",
      "Epoch = 450,  w = [67.36273994 26.93876443],  b = -32.49893603847147,  loss = 143.01678223238522\n",
      "Epoch = 500,  w = [71.9112437  26.02316135],  b = -32.10283402909851,  loss = 134.32703170775284\n",
      "Epoch = 550,  w = [76.21620267 25.12639278],  b = -31.63194202375429,  loss = 126.48964879715481\n",
      "Epoch = 600,  w = [80.29701784 24.25707135],  b = -31.124374924660163,  loss = 119.4107343800641\n",
      "Epoch = 650,  w = [84.16941407 23.4199008 ],  b = -30.60378530610991,  loss = 113.01273395705444\n",
      "Epoch = 700,  w = [87.84661634 22.61714223],  b = -30.084676370677805,  loss = 107.22847746549033\n",
      "Epoch = 750,  w = [91.34010424 21.84954258],  b = -29.57577136487351,  loss = 101.9984160359826\n",
      "Epoch = 800,  w = [94.66009852 21.11692186],  b = -29.082150020736186,  loss = 97.26918038140863\n",
      "Epoch = 850,  w = [97.8158771  20.41854413],  b = -28.60660282356123,  loss = 92.99270267166703\n",
      "Epoch = 900,  w = [100.81598271  19.75335119],  b = -28.150489103098774,  loss = 89.12559372295712\n",
      "Epoch = 950,  w = [103.66836131  19.12010946],  b = -27.714280390165193,  loss = 85.62864873391595\n"
     ]
    }
   ],
   "source": [
    "coef, intercept, cost, epoch_list = batch_gd(X, y, 1000)"
   ]
  },
  {
   "cell_type": "code",
   "execution_count": 128,
   "metadata": {},
   "outputs": [
    {
     "data": {
      "text/plain": [
       "[<matplotlib.lines.Line2D at 0x11f0e73b0>]"
      ]
     },
     "execution_count": 128,
     "metadata": {},
     "output_type": "execute_result"
    },
    {
     "data": {
      "image/png": "[encoded data removed]",
      "text/plain": [
       "<Figure size 640x480 with 1 Axes>"
      ]
     },
     "metadata": {},
     "output_type": "display_data"
    }
   ],
   "source": [
    "plt.xlabel('Epoch')\n",
    "plt.ylabel('Cost')\n",
    "plt.plot(epoch_list, cost)"
   ]
  },
  {
   "cell_type": "code",
   "execution_count": 129,
   "metadata": {},
   "outputs": [],
   "source": [
    "def predict(area, bedrooms, w, b):\n",
    "    scaled_area = area / max_area\n",
    "    y_scaled = (w[0] * scaled_area) + (w[1] * bedrooms) + b\n",
    "    return y_scaled * max_price"
   ]
  },
  {
   "cell_type": "code",
   "execution_count": 130,
   "metadata": {},
   "outputs": [
    {
     "data": {
      "text/plain": [
       "20295.11947451442"
      ]
     },
     "execution_count": 130,
     "metadata": {},
     "output_type": "execute_result"
    }
   ],
   "source": [
    "predict(2600, 4, coef, intercept)"
   ]
  },
  {
   "cell_type": "markdown",
   "metadata": {},
   "source": [
    "# Stochastic Gradient Descent"
   ]
  },
  {
   "cell_type": "code",
   "execution_count": 131,
   "metadata": {},
   "outputs": [],
   "source": [
    "import random"
   ]
  },
  {
   "cell_type": "code",
   "execution_count": 153,
   "metadata": {},
   "outputs": [],
   "source": [
    "def Stochastic_gd(X, y, epochs, l_rate = 0.05):\n",
    "    features = X.shape[1]  # 2: bedrooms, area\n",
    "    w = np.zeros(shape = features)   # [1, 1] -> 1D vector having 1's   \n",
    "    b = 0\n",
    "    n = X.shape[0]  # 20 samples\n",
    "    cost, epoch_list = [], []\n",
    "\n",
    "    for i in range(epochs):\n",
    "        random_sample = random.randint(0, n-1)\n",
    "        sample_x = X[random_sample]\n",
    "        sample_y = y[random_sample]\n",
    "\n",
    "        y_pred = np.dot(w, sample_x.T) + b\n",
    "\n",
    "        loss = np.mean(np.square(sample_y - y_pred))\n",
    "\n",
    "        w_d = -(2/n) * (sample_x.T.dot(sample_y - y_pred))\n",
    "        b_d = -(2/n) * (sample_y - y_pred)\n",
    "\n",
    "        w -= (l_rate * w_d)\n",
    "        b -= (l_rate * b_d)\n",
    "\n",
    "        if i % 50 == 0: print(f\"Epoch = {i},  w = {w},  b = {b},  loss = {loss}\")\n",
    "        cost.append(loss)\n",
    "        epoch_list.append(i)\n",
    "\n",
    "    return w, b, cost, epoch_list\n"
   ]
  },
  {
   "cell_type": "code",
   "execution_count": 165,
   "metadata": {},
   "outputs": [
    {
     "data": {
      "text/plain": [
       "numpy.ndarray"
      ]
     },
     "execution_count": 165,
     "metadata": {},
     "output_type": "execute_result"
    }
   ],
   "source": [
    "scaled_y = np.array(scaled_y)\n",
    "type(scaled_y)"
   ]
  },
  {
   "cell_type": "code",
   "execution_count": null,
   "metadata": {},
   "outputs": [],
   "source": [
    "coef, intercept, cost, epoch_list = Stochastic_gd(X, scaled_y, 100)"
   ]
  },
  {
   "cell_type": "markdown",
   "metadata": {},
   "source": [
    "# Mini-Batch Gradient Descent"
   ]
  },
  {
   "cell_type": "code",
   "execution_count": null,
   "metadata": {},
   "outputs": [],
   "source": [
    "def mini_batch_gradient_descent(X, y_true, epochs = 100, batch_size = 5, learning_rate = 0.01):\n",
    "    \n",
    "    number_of_features = X.shape[1]\n",
    "    # numpy array with 1 row and columns equal to number of features. In \n",
    "    # our case number_of_features = 3 (area, bedroom and age)\n",
    "    w = np.ones(shape=(number_of_features)) \n",
    "    b = 0\n",
    "    total_samples = X.shape[0] # number of rows in X\n",
    "    \n",
    "    if batch_size > total_samples: # In this case mini batch becomes same as batch gradient descent\n",
    "        batch_size = total_samples\n",
    "        \n",
    "    cost_list = []\n",
    "    epoch_list = []\n",
    "    \n",
    "    num_batches = int(total_samples/batch_size)\n",
    "    \n",
    "    for i in range(epochs):    \n",
    "        random_indices = np.random.permutation(total_samples)\n",
    "        X_tmp = X[random_indices]\n",
    "        y_tmp = y_true[random_indices]\n",
    "        \n",
    "        for j in range(0,total_samples,batch_size):\n",
    "            Xj = X_tmp[j:j+batch_size]\n",
    "            yj = y_tmp[j:j+batch_size]\n",
    "            y_predicted = np.dot(w, Xj.T) + b\n",
    "            \n",
    "            w_grad = -(2/len(Xj))*(Xj.T.dot(yj-y_predicted))\n",
    "            b_grad = -(2/len(Xj))*np.sum(yj-y_predicted)\n",
    "            \n",
    "            w = w - learning_rate * w_grad\n",
    "            b = b - learning_rate * b_grad\n",
    "                \n",
    "            cost = np.mean(np.square(yj-y_predicted)) # MSE (Mean Squared Error)\n",
    "        \n",
    "        if i%10==0:\n",
    "            cost_list.append(cost)\n",
    "            epoch_list.append(i)\n",
    "        \n",
    "    return w, b, cost, cost_list, epoch_list\n"
   ]
  },
  {
   "cell_type": "code",
   "execution_count": null,
   "metadata": {},
   "outputs": [],
   "source": [
    "w, b, cost, cost_list, epoch_list = mini_batch_gradient_descent(\n",
    "    X,\n",
    "    scaled_y,\n",
    "    epochs = 120,\n",
    "    batch_size = 5\n",
    ")\n",
    "w, b, cost"
   ]
  },
  {
   "cell_type": "code",
   "execution_count": null,
   "metadata": {},
   "outputs": [],
   "source": [
    "plt.xlabel(\"epoch\")\n",
    "plt.ylabel(\"cost\")\n",
    "plt.plot(epoch_list,cost_list)"
   ]
  },
  {
   "cell_type": "code",
   "execution_count": null,
   "metadata": {},
   "outputs": [],
   "source": [
    "def predict(area,bedrooms,w,b):\n",
    "    pass\n",
    "\n",
    "predict(2600,4,w,b)"
   ]
  }
 ],
 "metadata": {
  "kernelspec": {
   "display_name": ".venv",
   "language": "python",
   "name": "python3"
  },
  "language_info": {
   "codemirror_mode": {
    "name": "ipython",
    "version": 3
   },
   "file_extension": ".py",
   "mimetype": "text/x-python",
   "name": "python",
   "nbconvert_exporter": "python",
   "pygments_lexer": "ipython3",
   "version": "3.12.4"
  }
 },
 "nbformat": 4,
 "nbformat_minor": 2
}
