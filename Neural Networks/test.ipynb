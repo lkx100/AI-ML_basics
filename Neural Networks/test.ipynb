{
 "cells": [
  {
   "cell_type": "markdown",
   "metadata": {},
   "source": [
    "# Forward Propagation from Scratch"
   ]
  },
  {
   "cell_type": "code",
   "execution_count": 2,
   "metadata": {},
   "outputs": [
    {
     "data": {
      "text/plain": [
       "array([0.99303165, 0.27027027])"
      ]
     },
     "execution_count": 2,
     "metadata": {},
     "output_type": "execute_result"
    }
   ],
   "source": [
    "def sigmoid(x):\n",
    "    return 1 / (1 + (2.7) ** (-x))\n",
    "\n",
    "def dense(a_in, W, B):\n",
    "    units = W.shape[1]  # returns the no of columns of a matrix\n",
    "    a_out = np.zeros(units)  # Output array of 0's --> [0, 0, 0]\n",
    "    for j in range(units):\n",
    "        w = W[:, j]  # j th column  --> W[0:0], W[0:1], W[0:2], ....\n",
    "        b = B[j]  # i th value in array\n",
    "        z = np.dot(w, a_in) + b\n",
    "        a_out[j] = sigmoid(z)\n",
    "    return a_out\n",
    "\n",
    "def sequential(x):\n",
    "    W1 = np.array([\n",
    "        [1, -3, 5],\n",
    "        [2, 4, -6]\n",
    "    ])\n",
    "    W2 = np.array([\n",
    "        [1, 2, -1],\n",
    "        [0, -2, 3]\n",
    "    ])\n",
    "    b1 = np.array([-1, 2, 2])\n",
    "    b2 = np.array([2, 1, 3])\n",
    "    a1 = dense(x, W1, b1)\n",
    "    a2 = dense(a1, W2.T, b2)\n",
    "    return a2\n",
    "\n",
    "x = np.array([-2, 4])\n",
    "\n",
    "sequential(x)\n",
    "\n",
    "# "
   ]
  },
  {
   "cell_type": "code",
   "execution_count": 31,
   "metadata": {},
   "outputs": [],
   "source": [
    "x = np.array([200, 17])\n",
    "w1_1 = np.array([1, 2])\n",
    "b1_1 = np.array([-1])\n",
    "\n",
    "z1_1 = np.dot(w1_1.reshape(1, 2), x.reshape(2, 1)) + b1_1   # Actual Matrix multiplication method\n",
    "z1_1 = np.dot(w1_1, x) + b1_1   # treated as vectors (1D) not matrices (2D) --> (200.1) + (17.2) = 233\n",
    "\n",
    "W = np.array([[1, 2], \n",
    "              [-3, 4],\n",
    "              [5, -6]])\n",
    "\n"
   ]
  }
 ],
 "metadata": {
  "kernelspec": {
   "display_name": ".venv",
   "language": "python",
   "name": "python3"
  },
  "language_info": {
   "codemirror_mode": {
    "name": "ipython",
    "version": 3
   },
   "file_extension": ".py",
   "mimetype": "text/x-python",
   "name": "python",
   "nbconvert_exporter": "python",
   "pygments_lexer": "ipython3",
   "version": "3.12.4"
  }
 },
 "nbformat": 4,
 "nbformat_minor": 2
}
