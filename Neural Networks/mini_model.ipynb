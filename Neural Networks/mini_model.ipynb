{
 "cells": [
  {
   "cell_type": "code",
   "execution_count": 44,
   "metadata": {},
   "outputs": [],
   "source": [
    "import numpy as np\n",
    "import pandas as pd"
   ]
  },
  {
   "cell_type": "code",
   "execution_count": 61,
   "metadata": {},
   "outputs": [],
   "source": [
    "class BasicNeuralNetwork:\n",
    "    def __init__(self):\n",
    "        self.w1 = 1\n",
    "        self.w2 = 1\n",
    "        self.b = 0\n",
    "\n",
    "    def sigmoid(self, x):\n",
    "        return 1 / (1 + np.exp(-x))\n",
    "    \n",
    "    def resolve(self, y_pred):\n",
    "        return np.clip(y_pred, 1e-7, 1-1e-7)\n",
    "    \n",
    "    def binary_crossentropy(self, y_pred, y_true):\n",
    "        y_pred = self.resolve(y_pred)\n",
    "        return -np.mean((y_true*np.log(y_pred)) + (1-y_true)*(np.log(1-y_pred)))\n",
    "\n",
    "    def gradient_descent(self, age, affd, y_true, epochs = 100):\n",
    "        l_rate = 0.05\n",
    "        n = len(age)\n",
    "        for _ in range(epochs):\n",
    "            linear_sum = (self.w1*age) + (self.w2*affd) + self.b\n",
    "            y_pred = self.sigmoid(linear_sum)\n",
    "            loss = self.binary_crossentropy(y_pred, y_true)\n",
    "\n",
    "            w1_d = (1/n)*(np.dot(np.transpose(age), (y_pred - y_true)))\n",
    "            w2_d = (1/n)*(np.dot(np.transpose(affd), (y_pred - y_true)))\n",
    "            b_d = np.mean(y_pred - y_true)\n",
    "            \n",
    "            self.w1 -= (l_rate * w1_d)\n",
    "            self.w2 -= (l_rate * w2_d)\n",
    "            self.b -= (l_rate * b_d)\n",
    "\n",
    "            if _ % 10 == 0:\n",
    "                print(f'epoch = {_},  w1 = {self.w1:.4f},  w2 = {self.w2:.4f},  b = {self.b:.4f},  loss = {loss:.4f}')\n",
    "        \n",
    "        return self.w1, self.w2, self.b\n",
    "            \n",
    "    def fit(self, X, y, epochs):\n",
    "        self.w1, self.w2, self.b = self.gradient_descent(X['age'], X['affordibility'], y, epochs)\n",
    "        # for _ in range(epochs):\n",
    "        #     pass\n",
    "        print(f'Training Done !\\nw1: {self.w1:.4f},  w2: {self.w2:.4f},  b: {self.b:.4f}')\n",
    "\n",
    "    def predict(self, X_test):\n",
    "        linear_sum = self.b + (self.w1 * X_test['age']) + (self.w2 * X_test['affordibility'])\n",
    "        return self.sigmoid(linear_sum)\n",
    "        "
   ]
  },
  {
   "cell_type": "code",
   "execution_count": 59,
   "metadata": {},
   "outputs": [
    {
     "name": "stdout",
     "output_type": "stream",
     "text": [
      "epoch = 0,  w1 = 0.2696,  w2 = 0.9875,  b = -0.0250,  loss = 8.0590\n",
      "epoch = 10,  w1 = 0.6868,  w2 = 0.9912,  b = -0.0824,  loss = 8.0029\n",
      "epoch = 20,  w1 = 0.1663,  w2 = 0.9760,  b = -0.1639,  loss = 8.0590\n",
      "epoch = 30,  w1 = 0.0788,  w2 = 0.9709,  b = -0.2339,  loss = 7.9695\n",
      "epoch = 40,  w1 = 0.1875,  w2 = 0.9673,  b = -0.3004,  loss = 8.0590\n",
      "epoch = 50,  w1 = 1.0003,  w2 = 0.9736,  b = -0.3494,  loss = 1.4732\n",
      "epoch = 60,  w1 = 1.0512,  w2 = 0.9696,  b = -0.4166,  loss = 1.7147\n",
      "epoch = 70,  w1 = -0.5544,  w2 = 0.9394,  b = -0.5246,  loss = 2.3922\n",
      "epoch = 80,  w1 = -0.5420,  w2 = 0.9359,  b = -0.5925,  loss = 2.5791\n",
      "epoch = 90,  w1 = 0.1372,  w2 = 0.9422,  b = -0.6416,  loss = 0.6127\n",
      "Training Done !\n",
      "w1: 0.8948,  w2: 0.9503,  b: -0.6844\n"
     ]
    }
   ],
   "source": [
    "df = pd.read_csv('insurance_data.csv')\n",
    "\n",
    "model = BasicNeuralNetwork()\n",
    "model.fit(df[['age', 'affordibility']], df['bought_insurance'], 100)\n"
   ]
  },
  {
   "cell_type": "code",
   "execution_count": 62,
   "metadata": {},
   "outputs": [
    {
     "data": {
      "text/plain": [
       "0     1.0\n",
       "1     1.0\n",
       "2     1.0\n",
       "3     1.0\n",
       "4     1.0\n",
       "5     1.0\n",
       "6     1.0\n",
       "7     1.0\n",
       "8     1.0\n",
       "9     1.0\n",
       "10    1.0\n",
       "11    1.0\n",
       "12    1.0\n",
       "13    1.0\n",
       "14    1.0\n",
       "15    1.0\n",
       "16    1.0\n",
       "17    1.0\n",
       "18    1.0\n",
       "19    1.0\n",
       "20    1.0\n",
       "21    1.0\n",
       "22    1.0\n",
       "23    1.0\n",
       "24    1.0\n",
       "25    1.0\n",
       "26    1.0\n",
       "27    1.0\n",
       "dtype: float64"
      ]
     },
     "execution_count": 62,
     "metadata": {},
     "output_type": "execute_result"
    }
   ],
   "source": [
    "model.predict(df[['age', 'affordibility']])"
   ]
  }
 ],
 "metadata": {
  "kernelspec": {
   "display_name": ".venv",
   "language": "python",
   "name": "python3"
  },
  "language_info": {
   "codemirror_mode": {
    "name": "ipython",
    "version": 3
   },
   "file_extension": ".py",
   "mimetype": "text/x-python",
   "name": "python",
   "nbconvert_exporter": "python",
   "pygments_lexer": "ipython3",
   "version": "3.12.4"
  }
 },
 "nbformat": 4,
 "nbformat_minor": 2
}
